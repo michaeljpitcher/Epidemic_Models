{
 "cells": [
  {
   "cell_type": "code",
   "execution_count": 2,
   "metadata": {
    "collapsed": true
   },
   "outputs": [],
   "source": [
    "from GraphWithDynamics import *"
   ]
  },
  {
   "cell_type": "code",
   "execution_count": 3,
   "metadata": {
    "collapsed": false
   },
   "outputs": [],
   "source": [
    "class GraphWithSynchronousDynamics(GraphWithDynamics):\n",
    "    '''A graph with a dynamics that runs synchronously,\n",
    "    incrementing the timestep by 1 each time and running\n",
    "    through every single node in the network appying\n",
    "    the necessary dynamics.'''\n",
    "        \n",
    "    def __init__( self, graph = None, time_limit = 10000, states = [], rates = dict() ):\n",
    "        '''Create a graph, delegates to superclass'''\n",
    "        GraphWithDynamics.__init__(self, graph, time_limit, states = states, rates = rates)\n",
    "        \n",
    "    def model( self, node ):\n",
    "        '''The dynamics function that's run over the network. This\n",
    "        is a placeholder to be re-defined by sub-classes.\n",
    "        \n",
    "        node: the node being simulated'''\n",
    "        raise NotYetImplementedError('model()')\n",
    "        \n",
    "    def _dynamics_step( self ):\n",
    "        '''Run a single step of the model over the network.\n",
    "        \n",
    "        returns: the number of dynamic events that happened in this timestep'''\n",
    "        #Initialise events\n",
    "        events = 0\n",
    "        # Run through every node in the network\n",
    "        for i in self.node.keys():\n",
    "            # Run the model, add any event done to the events total\n",
    "            events = events + self.model(i)\n",
    "        return events    \n",
    "    \n",
    "    def _dynamics( self ):\n",
    "        '''Synchronous dynamics. We apply _dynamics_step() at each timestep\n",
    "        and then check for completion using at_equilibrium().\n",
    "        \n",
    "        returns: a dict of simulation properties'''\n",
    "        \n",
    "        # initialise properties, which records the statistics to be returned to user\n",
    "        properties = dict()\n",
    "\n",
    "        # initialise event counter\n",
    "        events = 0\n",
    "        timestep_events = 0\n",
    "        \n",
    "        # Run continuously until equilibrium reached\n",
    "        while True:\n",
    "            # run a step\n",
    "            new_events = self._dynamics_step()\n",
    "            # If events have happened, update\n",
    "            if new_events > 0:\n",
    "                events += new_events\n",
    "                timestep_events += 1\n",
    "                # Record event distribution history\n",
    "                self._event_dist[self.CURRENT_TIMESTEP] = new_events\n",
    "        \n",
    "            # Increment timestep (synchronous maps each step, so increment by 1)\n",
    "            self.increment_timestep(1)\n",
    "            \n",
    "            # test for termination\n",
    "            if self.at_equilibrium():\n",
    "                break\n",
    "        \n",
    "        # Calculate outbreak sizes\n",
    "        cs = sorted(networkx.connected_components(self.skeletonise()), key = len, reverse = True)\n",
    "        max_outbreak_size = len(cs[0])\n",
    "        max_outbreak_proportion = (max_outbreak_size + 0.0) / self.order()\n",
    "        mean_outbreak_size = numpy.mean([ len(c) for c in cs ])\n",
    "        \n",
    "        # add parameters and metrics for this simulation run\n",
    "        properties['number_of_nodes'] = self.order(),\n",
    "        properties['mean_outbreak_size'] = mean_outbreak_size,\n",
    "        properties['max_outbreak_size'] = max_outbreak_size,\n",
    "        properties['max_outbreak_proportion'] = max_outbreak_proportion\n",
    "        \n",
    "        # return the simulation-level results\n",
    "        properties['timesteps'] = self.CURRENT_TIMESTEP\n",
    "        properties['events'] = events\n",
    "        properties['timesteps_with_events'] = timestep_events\n",
    "        \n",
    "        # Return the statistics\n",
    "        return properties"
   ]
  }
 ],
 "metadata": {
  "kernelspec": {
   "display_name": "Python 2",
   "language": "python",
   "name": "python2"
  },
  "language_info": {
   "codemirror_mode": {
    "name": "ipython",
    "version": 2
   },
   "file_extension": ".py",
   "mimetype": "text/x-python",
   "name": "python",
   "nbconvert_exporter": "python",
   "pygments_lexer": "ipython2",
   "version": "2.7.4"
  }
 },
 "nbformat": 4,
 "nbformat_minor": 0
}
